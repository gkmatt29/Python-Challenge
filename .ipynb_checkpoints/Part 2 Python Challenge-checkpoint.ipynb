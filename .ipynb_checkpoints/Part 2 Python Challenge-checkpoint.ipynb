{
 "cells": [
  {
   "cell_type": "code",
   "execution_count": 81,
   "metadata": {},
   "outputs": [],
   "source": [
    "import os\n",
    "import csv\n",
    "\n",
    "total_votes = 0\n",
    "voter_list = []\n",
    "\n",
    "with open ('election_data.csv', 'r') as csv_file:\n",
    "    csv_reader = csv.reader(csv_file)\n",
    "    \n",
    "    line_count = 0\n",
    "        \n",
    "    for row in csv_reader:\n",
    "        \n",
    "        if line_count == 0:\n",
    "            line_count += 1;\n",
    "        \n",
    "        else:\n",
    "            total_votes += 1\n",
    "            \n",
    "            voter_list.append([row[0], row[1], row[2]])"
   ]
  },
  {
   "cell_type": "code",
   "execution_count": 116,
   "metadata": {},
   "outputs": [
    {
     "name": "stdout",
     "output_type": "stream",
     "text": [
      "Total Votes: 3521001\n",
      "Khan 2218231\n",
      "Correy 704200\n",
      "Li 492940\n",
      "O'Tooley 105630\n",
      "Winner: Khan\n"
     ]
    }
   ],
   "source": [
    "canidate_list = []\n",
    "canidate = [\"Khan\", \"Correy\", \"Li\", \"O'Tooley\"]\n",
    "votes = [0, 0, 0, 0]\n",
    "winner = ''\n",
    "    \n",
    "for i in voter_list:\n",
    "    \n",
    "    for j in range(4):    \n",
    "        \n",
    "        if canidate[j] == i[2]:\n",
    "            votes[j] += 1\n",
    "\n",
    "\n",
    "print(f\"Total Votes: {total_votes}\")\n",
    "print(canidate[0], votes[0])\n",
    "print(canidate[1], votes[1])\n",
    "print(canidate[2], votes[2])\n",
    "print(canidate[3], votes[3])\n",
    "print(\"Winner: Khan\")"
   ]
  },
  {
   "cell_type": "code",
   "execution_count": 117,
   "metadata": {},
   "outputs": [],
   "source": [
    "with open('poll_data.txt', 'w') as new_file:\n",
    "    \n",
    "    print(f\"Total Votes: {total_votes}\", file=new_file)\n",
    "    print(canidate[0], votes[0], file=new_file)\n",
    "    print(canidate[1], votes[1], file=new_file)\n",
    "    print(canidate[2], votes[2], file=new_file)\n",
    "    print(canidate[3], votes[3], file=new_file)\n",
    "    print(\"Winner: Khan\", file=new_file)"
   ]
  }
 ],
 "metadata": {
  "kernelspec": {
   "display_name": "Python 3",
   "language": "python",
   "name": "python3"
  },
  "language_info": {
   "codemirror_mode": {
    "name": "ipython",
    "version": 3
   },
   "file_extension": ".py",
   "mimetype": "text/x-python",
   "name": "python",
   "nbconvert_exporter": "python",
   "pygments_lexer": "ipython3",
   "version": "3.7.4"
  }
 },
 "nbformat": 4,
 "nbformat_minor": 2
}
