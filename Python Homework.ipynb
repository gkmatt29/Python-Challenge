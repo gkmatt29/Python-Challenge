{
 "cells": [
  {
   "cell_type": "code",
   "execution_count": 1,
   "metadata": {},
   "outputs": [],
   "source": [
    "import os\n",
    "import csv\n",
    "\n",
    "net_total = 0\n",
    "total_months = 0\n",
    "list_of_numbers = []\n",
    "\n",
    "with open ('budget_data.csv', 'r') as csv_file:\n",
    "    csv_reader = csv.reader(csv_file)    \n",
    "\n",
    "    line_count = 0\n",
    "        \n",
    "    for row in csv_reader:\n",
    "        \n",
    "        if line_count == 0:\n",
    "            line_count += 1;\n",
    "        \n",
    "        else:\n",
    "            total_months += 1\n",
    "            \n",
    "            net_total += int(row[1])\n",
    "            # [{'03/02': 123}, {'03/03': 234}, {'03/04': 1234}]\n",
    "            list_of_numbers.append([str(row[0]), int(row[1])])\n"
   ]
  },
  {
   "cell_type": "code",
   "execution_count": 2,
   "metadata": {
    "scrolled": true
   },
   "outputs": [
    {
     "name": "stdout",
     "output_type": "stream",
     "text": [
      "Total Months: 86\n",
      "Total: 38382578\n",
      "Average Change: -2315.12\n",
      "Largest Increase: 1926159 Feb-2012\n",
      "Largest Decrease: -2196167 Sep-2013\n"
     ]
    }
   ],
   "source": [
    "index = 0\n",
    "\n",
    "list_of_differences = []\n",
    "difference = 0\n",
    "average_diff = 0\n",
    "\n",
    "data = list_of_numbers[1]\n",
    "data[0], data[1]\n",
    "\n",
    "list_of_month = []\n",
    "\n",
    "for data in list_of_numbers:\n",
    "    if index == len(list_of_numbers) - 1:\n",
    "        break;\n",
    "\n",
    "    current_value = data[1]\n",
    "    next_value = list_of_numbers[index + 1][1]\n",
    "\n",
    "    difference =  next_value - current_value\n",
    "\n",
    "    list_of_differences.append(difference)\n",
    "    next_month = list_of_numbers[index + 1][0]\n",
    "    list_of_month.append(next_month)\n",
    "\n",
    "    index += 1\n",
    "\n",
    "    average_diff = sum(list_of_differences) / len(list_of_differences)\n",
    "    average_diff = round(average_diff, 2)\n",
    "    \n",
    "    \n",
    "    max_diff = max(list_of_differences)\n",
    "    min_diff = min(list_of_differences)\n",
    "    max_index = list_of_differences.index(max_diff)\n",
    "    min_index = list_of_differences.index(min_diff)\n",
    "    list_of_month[max_index], list_of_month[min_index]\n",
    "        \n",
    "\n",
    "print(f\"Total Months: {total_months}\")\n",
    "print(f\"Total: {net_total}\")\n",
    "print(f\"Average Change: {average_diff}\")\n",
    "print(f\"Largest Increase: {max_diff} {list_of_month[max_index]}\")\n",
    "print(f\"Largest Decrease: {min_diff} {list_of_month[min_index]}\")"
   ]
  },
  {
   "cell_type": "code",
   "execution_count": 7,
   "metadata": {},
   "outputs": [],
   "source": [
    "with open('budget_data.txt', 'w') as new_file:\n",
    "    \n",
    "    print(f\"Total Months: {total_months}\", file=new_file)\n",
    "    print(f\"Total: {net_total}\", file=new_file)\n",
    "    print(f\"Average Change: {average_diff}\", file=new_file)\n",
    "    print(f\"Largest Increase: {max_diff} {list_of_month[max_index]}\", file=new_file)\n",
    "    print(f\"Largest Decrease: {min_diff} {list_of_month[min_index]}\", file=new_file)\n"
   ]
  }
 ],
 "metadata": {
  "kernelspec": {
   "display_name": "Python 3",
   "language": "python",
   "name": "python3"
  },
  "language_info": {
   "codemirror_mode": {
    "name": "ipython",
    "version": 3
   },
   "file_extension": ".py",
   "mimetype": "text/x-python",
   "name": "python",
   "nbconvert_exporter": "python",
   "pygments_lexer": "ipython3",
   "version": "3.7.4"
  }
 },
 "nbformat": 4,
 "nbformat_minor": 2
}
